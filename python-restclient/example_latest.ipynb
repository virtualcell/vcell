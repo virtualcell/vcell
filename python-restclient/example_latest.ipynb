{
 "cells": [
  {
   "cell_type": "markdown",
   "source": [
    "### Authenticate and configure API client\n",
    "- set environment variable for insecure transport\n",
    "- import api client and auth code response\n",
    "- authenticate and configure api client\n",
    "- set default header for api client (to include bearer token) - this is required for all api calls\n",
    "  - setting the default header will soon be handled by the auth_utils_requests_oathlib.login_interactive method"
   ],
   "metadata": {
    "collapsed": false
   },
   "id": "6444e342beaccd4d"
  },
  {
   "cell_type": "code",
   "execution_count": null,
   "outputs": [],
   "source": [
    "%env OAUTHLIB_INSECURE_TRANSPORT=1;\n",
    "\n",
    "from vcell_client import ApiClient, AuthCodeResponse, Configuration, Publication\n",
    "from vcell_client.auth import auth_utils_requests_oathlib as vc_auth\n",
    "\n",
    "api_url: str = \"http://localhost:9000\"\n",
    "client_id: str = 'backend-service'\n",
    "authorization_url: str = 'http://localhost:60239/realms/quarkus/protocol/openid-connect/auth'\n",
    "\n",
    "auth_code_response: AuthCodeResponse = vc_auth.login_interactive(api_base_url=api_url, client_id=client_id,\n",
    "                                                                 authorization_base_url=authorization_url)\n",
    "api_client = ApiClient(configuration=Configuration(host=api_url, access_token=auth_code_response.access_token))\n",
    "api_client.set_default_header('Authorization', f'Bearer {auth_code_response.access_token}')"
   ],
   "metadata": {
    "collapsed": false
   },
   "id": "f56d96abf59682dd"
  },
  {
   "cell_type": "markdown",
   "source": [
    "### Test Publication API\n",
    "- get publications\n",
    "- add publication\n",
    "- delete publication\n",
    "- get publications"
   ],
   "metadata": {
    "collapsed": false
   },
   "id": "a0e558b807038809"
  },
  {
   "cell_type": "code",
   "execution_count": null,
   "outputs": [],
   "source": [
    "from vcell_client.api.publication_resource_api import PublicationResourceApi\n",
    "from datetime import date\n",
    "\n",
    "publication_api = PublicationResourceApi(api_client)\n",
    "pubs: list[Publication] = publication_api.get_publications()\n",
    "display(f\"initial publications: {pubs}\")\n",
    "\n",
    "pub1 = Publication(title=\"publication 1\", authors=[\"author 1\", \"author 2\"], year=1995, citation=\"citation 1\",\n",
    "    pubmedid=\"pubmedid 1\", doi=\"doi 1\", endnoteid=1, url=\"url 1\", wittid=1, biomodel_refs=[], mathmodel_refs=[], var_date=date.today())\n",
    "pub2 = pub1.model_copy()\n",
    "pub2.title=\"publication 2\"\n",
    "\n",
    "pub1_key: int = publication_api.add_publication(publication=pub1)\n",
    "pub2_key: int = publication_api.add_publication(publication=pub2)\n",
    "\n",
    "more_pubs: list[Publication] = publication_api.get_publications()\n",
    "display(f\"more publications: {more_pubs}\")\n",
    "\n",
    "pub1_from_db = publication_api.get_publication(id=pub1_key)\n",
    "display(f\"publication 1 from db: {pub1_from_db}\")\n",
    "\n",
    "for pub in more_pubs:\n",
    "    publication_api.delete_publication(id=pub.pub_key)\n",
    "\n",
    "final_pubs: list[Publication] = publication_api.get_publications()\n",
    "display(f\"final publications: {final_pubs}\")\n",
    "\n"
   ],
   "metadata": {
    "collapsed": false
   },
   "id": "initial_id"
  },
  {
   "cell_type": "code",
   "execution_count": null,
   "outputs": [],
   "source": [],
   "metadata": {
    "collapsed": false
   },
   "id": "2d52cc891310b65a"
  },
  {
   "cell_type": "code",
   "execution_count": null,
   "outputs": [],
   "source": [],
   "metadata": {
    "collapsed": false
   },
   "id": "96a0daaa0a22f7f2"
  }
 ],
 "metadata": {
  "kernelspec": {
   "display_name": "Python 3",
   "language": "python",
   "name": "python3"
  },
  "language_info": {
   "codemirror_mode": {
    "name": "ipython",
    "version": 2
   },
   "file_extension": ".py",
   "mimetype": "text/x-python",
   "name": "python",
   "nbconvert_exporter": "python",
   "pygments_lexer": "ipython2",
   "version": "2.7.6"
  }
 },
 "nbformat": 4,
 "nbformat_minor": 5
}
