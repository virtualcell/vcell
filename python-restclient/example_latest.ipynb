{
 "cells": [
  {
   "cell_type": "markdown",
   "source": [
    "### Authenticate and configure API client\n",
    "- set environment variable for insecure transport\n",
    "- import api client and auth code response\n",
    "- authenticate and configure api client\n",
    "- set default header for api client (to include bearer token) - this is required for all api calls\n",
    "  - setting the default header will soon be handled by the auth_utils_requests_oathlib.login_interactive method"
   ],
   "metadata": {
    "collapsed": false
   },
   "id": "6444e342beaccd4d"
  },
  {
   "cell_type": "code",
   "execution_count": 1,
   "outputs": [
    {
     "name": "stdout",
     "output_type": "stream",
     "text": [
      "env: OAUTHLIB_INSECURE_TRANSPORT=1;\n"
     ]
    },
    {
     "name": "stderr",
     "output_type": "stream",
     "text": [
      "192.168.1.156 - - [30/Nov/2023 09:59:55] \"GET /oidc_test_callback?state=0ogPV5hTMh1QeuC6yeaJ0CYIFoiCpn&session_state=9b0c4d7b-de0b-4681-8cf5-907077aa6fb5&code=ce8ce282-2623-45e5-9e0c-0f1662affea0.9b0c4d7b-de0b-4681-8cf5-907077aa6fb5.9babfb19-9eb7-4ac6-a6c0-4ba54310550d HTTP/1.1\" 200 -\n"
     ]
    }
   ],
   "source": [
    "%env OAUTHLIB_INSECURE_TRANSPORT=1;\n",
    "\n",
    "from vcell_client import ApiClient, AuthCodeResponse, Configuration, Publication\n",
    "from vcell_client.auth import auth_utils_requests_oathlib as vc_auth\n",
    "\n",
    "api_url: str = \"http://localhost:9000\"\n",
    "client_id: str = 'backend-service'\n",
    "authorization_url: str = 'http://localhost:52520/realms/quarkus/protocol/openid-connect/auth'\n",
    "\n",
    "auth_code_response: AuthCodeResponse = vc_auth.login_interactive(api_base_url=api_url, client_id=client_id,\n",
    "                                                                 authorization_base_url=authorization_url)\n",
    "api_client = ApiClient(configuration=Configuration(host=api_url, access_token=auth_code_response.access_token))\n",
    "api_client.set_default_header('Authorization', f'Bearer {auth_code_response.access_token}')"
   ],
   "metadata": {
    "collapsed": false,
    "ExecuteTime": {
     "end_time": "2023-11-30T14:59:55.830610Z",
     "start_time": "2023-11-30T14:59:47.266211Z"
    }
   },
   "id": "f56d96abf59682dd"
  },
  {
   "cell_type": "markdown",
   "source": [
    "### Test Publication API\n",
    "- get publications\n",
    "- add publication\n",
    "- delete publication\n",
    "- get publications"
   ],
   "metadata": {
    "collapsed": false
   },
   "id": "a0e558b807038809"
  },
  {
   "cell_type": "code",
   "execution_count": 2,
   "outputs": [
    {
     "data": {
      "text/plain": "'initial publications: []'"
     },
     "metadata": {},
     "output_type": "display_data"
    },
    {
     "data": {
      "text/plain": "   pubKey          title               authors  year    citation    pubmedid  \\\n0       7  publication 1  [author 1, author 2]  1995  citation 1  pubmedid 1   \n1       8  publication 2  [author 1, author 2]  1995  citation 1  pubmedid 1   \n\n     doi  endnoteid    url  wittid biomodelRefs mathmodelRefs        date  \n0  doi 1          1  url 1       1           []            []  2023-11-29  \n1  doi 1          1  url 1       1           []            []  2023-11-29  ",
      "text/html": "<div>\n<style scoped>\n    .dataframe tbody tr th:only-of-type {\n        vertical-align: middle;\n    }\n\n    .dataframe tbody tr th {\n        vertical-align: top;\n    }\n\n    .dataframe thead th {\n        text-align: right;\n    }\n</style>\n<table border=\"1\" class=\"dataframe\">\n  <thead>\n    <tr style=\"text-align: right;\">\n      <th></th>\n      <th>pubKey</th>\n      <th>title</th>\n      <th>authors</th>\n      <th>year</th>\n      <th>citation</th>\n      <th>pubmedid</th>\n      <th>doi</th>\n      <th>endnoteid</th>\n      <th>url</th>\n      <th>wittid</th>\n      <th>biomodelRefs</th>\n      <th>mathmodelRefs</th>\n      <th>date</th>\n    </tr>\n  </thead>\n  <tbody>\n    <tr>\n      <th>0</th>\n      <td>7</td>\n      <td>publication 1</td>\n      <td>[author 1, author 2]</td>\n      <td>1995</td>\n      <td>citation 1</td>\n      <td>pubmedid 1</td>\n      <td>doi 1</td>\n      <td>1</td>\n      <td>url 1</td>\n      <td>1</td>\n      <td>[]</td>\n      <td>[]</td>\n      <td>2023-11-29</td>\n    </tr>\n    <tr>\n      <th>1</th>\n      <td>8</td>\n      <td>publication 2</td>\n      <td>[author 1, author 2]</td>\n      <td>1995</td>\n      <td>citation 1</td>\n      <td>pubmedid 1</td>\n      <td>doi 1</td>\n      <td>1</td>\n      <td>url 1</td>\n      <td>1</td>\n      <td>[]</td>\n      <td>[]</td>\n      <td>2023-11-29</td>\n    </tr>\n  </tbody>\n</table>\n</div>"
     },
     "metadata": {},
     "output_type": "display_data"
    },
    {
     "data": {
      "text/plain": "   pubKey          title               authors  year    citation    pubmedid  \\\n0       7  publication 1  [author 1, author 2]  1995  citation 1  pubmedid 1   \n\n     doi  endnoteid    url  wittid biomodelRefs mathmodelRefs        date  \n0  doi 1          1  url 1       1           []            []  2023-11-29  ",
      "text/html": "<div>\n<style scoped>\n    .dataframe tbody tr th:only-of-type {\n        vertical-align: middle;\n    }\n\n    .dataframe tbody tr th {\n        vertical-align: top;\n    }\n\n    .dataframe thead th {\n        text-align: right;\n    }\n</style>\n<table border=\"1\" class=\"dataframe\">\n  <thead>\n    <tr style=\"text-align: right;\">\n      <th></th>\n      <th>pubKey</th>\n      <th>title</th>\n      <th>authors</th>\n      <th>year</th>\n      <th>citation</th>\n      <th>pubmedid</th>\n      <th>doi</th>\n      <th>endnoteid</th>\n      <th>url</th>\n      <th>wittid</th>\n      <th>biomodelRefs</th>\n      <th>mathmodelRefs</th>\n      <th>date</th>\n    </tr>\n  </thead>\n  <tbody>\n    <tr>\n      <th>0</th>\n      <td>7</td>\n      <td>publication 1</td>\n      <td>[author 1, author 2]</td>\n      <td>1995</td>\n      <td>citation 1</td>\n      <td>pubmedid 1</td>\n      <td>doi 1</td>\n      <td>1</td>\n      <td>url 1</td>\n      <td>1</td>\n      <td>[]</td>\n      <td>[]</td>\n      <td>2023-11-29</td>\n    </tr>\n  </tbody>\n</table>\n</div>"
     },
     "metadata": {},
     "output_type": "display_data"
    },
    {
     "data": {
      "text/plain": "'final publications: []'"
     },
     "metadata": {},
     "output_type": "display_data"
    }
   ],
   "source": [
    "from vcell_client.api.publication_resource_api import PublicationResourceApi\n",
    "from datetime import date\n",
    "\n",
    "publication_api = PublicationResourceApi(api_client)\n",
    "pubs: list[Publication] = publication_api.get_publications()\n",
    "display(f\"initial publications: {pubs}\")\n",
    "\n",
    "pub1 = Publication(title=\"publication 1\", authors=[\"author 1\", \"author 2\"], year=1995, citation=\"citation 1\",\n",
    "    pubmedid=\"pubmedid 1\", doi=\"doi 1\", endnoteid=1, url=\"url 1\", wittid=1, biomodel_refs=[], mathmodel_refs=[], var_date=date.today())\n",
    "pub2 = pub1.model_copy()\n",
    "pub2.title=\"publication 2\"\n",
    "\n",
    "pub1_key: int = publication_api.add_publication(publication=pub1)\n",
    "pub2_key: int = publication_api.add_publication(publication=pub2)\n",
    "\n",
    "more_pubs: list[Publication] = publication_api.get_publications()\n",
    "#display(f\"more publications: {more_pubs}\")\n",
    "\n",
    "# list of publications to pandas dataframe\n",
    "import pandas as pd\n",
    "display(pd.DataFrame([pub.to_dict() for pub in more_pubs]))\n",
    "\n",
    "pub1_from_db = publication_api.get_publication(id=pub1_key)\n",
    "#display(f\"publication 1 from db: {pub1_from_db}\")\n",
    "display(pd.DataFrame([pub1_from_db.to_dict()]))\n",
    "\n",
    "for pub in more_pubs:\n",
    "    publication_api.delete_publication(id=pub.pub_key)\n",
    "\n",
    "final_pubs: list[Publication] = publication_api.get_publications()\n",
    "display(f\"final publications: {final_pubs}\")\n",
    "\n"
   ],
   "metadata": {
    "collapsed": false,
    "ExecuteTime": {
     "end_time": "2023-11-30T14:59:57.238162Z",
     "start_time": "2023-11-30T14:59:55.842710Z"
    }
   },
   "id": "initial_id"
  },
  {
   "cell_type": "code",
   "execution_count": 2,
   "outputs": [],
   "source": [],
   "metadata": {
    "collapsed": false,
    "ExecuteTime": {
     "end_time": "2023-11-30T14:59:57.238730Z",
     "start_time": "2023-11-30T14:59:57.184772Z"
    }
   },
   "id": "2d52cc891310b65a"
  },
  {
   "cell_type": "code",
   "execution_count": 2,
   "outputs": [],
   "source": [],
   "metadata": {
    "collapsed": false,
    "ExecuteTime": {
     "end_time": "2023-11-30T14:59:57.245067Z",
     "start_time": "2023-11-30T14:59:57.194189Z"
    }
   },
   "id": "96a0daaa0a22f7f2"
  }
 ],
 "metadata": {
  "kernelspec": {
   "display_name": "Python 3",
   "language": "python",
   "name": "python3"
  },
  "language_info": {
   "codemirror_mode": {
    "name": "ipython",
    "version": 2
   },
   "file_extension": ".py",
   "mimetype": "text/x-python",
   "name": "python",
   "nbconvert_exporter": "python",
   "pygments_lexer": "ipython2",
   "version": "2.7.6"
  }
 },
 "nbformat": 4,
 "nbformat_minor": 5
}
