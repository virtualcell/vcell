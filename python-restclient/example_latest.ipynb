{
 "cells": [
  {
   "cell_type": "markdown",
   "id": "6444e342beaccd4d",
   "metadata": {
    "collapsed": false,
    "jupyter": {
     "outputs_hidden": false
    }
   },
   "source": [
    "## Authenticate and configure API client\n",
    "- this notebook demonstrates how to authenticate and configure an ApiClient for use with the vcell-rest service\n",
    "- the vcell-rest service is a quarkus service that uses keycloak for authentication and authorization\n",
    "\n",
    "## invokes login_interactive to create an authenticated ApiClient\n",
    "- this will open a browser window to login to keycloak (login with alice/alice or bob/bob)\n",
    "- after login, the browser will redirect to a localhost url - this is expected and can be closed\n",
    "- the login_interactive method will then extract the auth code and exchange it for tokens to authenticate the api client\n",
    "- the api client will be configured to use the access_token as a bearer token."
   ]
  },
  {
   "cell_type": "code",
   "execution_count": null,
   "id": "f56d96abf59682dd",
   "metadata": {
    "collapsed": false,
    "jupyter": {
     "outputs_hidden": false
    }
   },
   "outputs": [],
   "source": [
    "%env OAUTHLIB_INSECURE_TRANSPORT=1;  # allow http (not https) for local testing\n",
    "\n",
    "from vcell_client.auth.auth_utils import login_interactive\n",
    "\n",
    "api_url: str = \"https://vcellapi-test.cam.uchc.edu\"  # local vcell-rest service - use `quarkus dev` in vcell-rest folder to start\n",
    "client_id: str = 'cjoWhd7W8A8znf7Z7vizyvKJCiqTgRtf' # default client id defined in keycloak for quarkus dev services\n",
    "auth_url: str = 'https://dev-dzhx7i2db3x3kkvq.us.auth0.com/authorize'\n",
    "token_url: str = 'https://dev-dzhx7i2db3x3kkvq.us.auth0.com/oauth/token'\n",
    "\n",
    "display(\"log in with vcell userid/password or google account\")\n",
    "api_client = login_interactive(api_base_url=api_url, client_id=client_id, auth_url=auth_url, token_url=token_url)"
   ]
  },
  {
   "cell_type": "markdown",
   "id": "a0e558b807038809",
   "metadata": {
    "collapsed": false,
    "jupyter": {
     "outputs_hidden": false
    }
   },
   "source": [
    "### Test Publication API\n",
    "- get publications - doesn't need authentication/authorization\n",
    "- add publication - needs admin role (alice but not bob has this role)\n",
    "- delete publication - needs admin role (alice but not bob has this role)"
   ]
  },
  {
   "cell_type": "code",
   "execution_count": null,
   "id": "8f95b36e4437ccbb",
   "metadata": {
    "collapsed": false,
    "jupyter": {
     "outputs_hidden": false
    }
   },
   "outputs": [],
   "source": [
    "from vcell_client import Publication\n",
    "from vcell_client.api.publication_resource_api import PublicationResourceApi\n",
    "\n",
    "publication_api = PublicationResourceApi(api_client)\n",
    "pubs: list[Publication] = publication_api.get_publications()\n",
    "display(f\"final publications: {pubs}\")"
   ]
  },
  {
   "cell_type": "code",
   "execution_count": null,
   "id": "ed266f9194abb748",
   "metadata": {
    "collapsed": false,
    "jupyter": {
     "outputs_hidden": false
    }
   },
   "outputs": [],
   "source": []
  }
 ],
 "metadata": {
  "kernelspec": {
   "display_name": "Python 3 (ipykernel)",
   "language": "python",
   "name": "python3"
  },
  "language_info": {
   "codemirror_mode": {
    "name": "ipython",
    "version": 3
   },
   "file_extension": ".py",
   "mimetype": "text/x-python",
   "name": "python",
   "nbconvert_exporter": "python",
   "pygments_lexer": "ipython3",
   "version": "3.12.2"
  }
 },
 "nbformat": 4,
 "nbformat_minor": 5
}
