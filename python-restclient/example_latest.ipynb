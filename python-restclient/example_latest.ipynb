{
 "cells": [
  {
   "cell_type": "markdown",
   "source": [
    "## Authenticate and configure API client\n",
    "- this notebook demonstrates how to authenticate and configure an ApiClient for use with the vcell-rest service\n",
    "- the vcell-rest service is a quarkus service that uses keycloak for authentication and authorization\n",
    "\n",
    "## invokes login_interactive to create an authenticated ApiClient\n",
    "- this will open a browser window to login to keycloak (login with alice/alice or bob/bob)\n",
    "- after login, the browser will redirect to a localhost url - this is expected and can be closed\n",
    "- the login_interactive method will then extract the auth code and exchange it for tokens to authenticate the api client\n",
    "- the api client will be configured to use the access_token as a bearer token."
   ],
   "metadata": {
    "collapsed": false
   },
   "id": "6444e342beaccd4d"
  },
  {
   "cell_type": "code",
   "execution_count": null,
   "outputs": [],
   "source": [
    "%env OAUTHLIB_INSECURE_TRANSPORT=1;  # allow http (not https) for local testing\n",
    "\n",
    "from vcell_client.auth.auth_utils import login_interactive\n",
    "\n",
    "api_url: str = \"http://localhost:9000\"  # local vcell-rest service - use `quarkus dev` in vcell-rest folder to start\n",
    "client_id: str = 'cjoWhd7W8A8znf7Z7vizyvKJCiqTgRtf' # default client id defined in keycloak for quarkus dev services\n",
    "auth_url: str = 'https://dev-dzhx7i2db3x3kkvq.us.auth0.com/authorize'\n",
    "token_url: str = 'https://dev-dzhx7i2db3x3kkvq.us.auth0.com/oauth/token'\n",
    "\n",
    "display(\"log in with vcell userid/password or google account\")\n",
    "api_client = login_interactive(api_base_url=api_url, client_id=client_id, auth_url=auth_url, token_url=token_url)"
   ],
   "metadata": {
    "collapsed": false
   },
   "id": "f56d96abf59682dd"
  },
  {
   "cell_type": "markdown",
   "source": [
    "### Test Publication API\n",
    "- get publications - doesn't need authentication/authorization\n",
    "- add publication - needs admin role (alice but not bob has this role)\n",
    "- delete publication - needs admin role (alice but not bob has this role)"
   ],
   "metadata": {
    "collapsed": false
   },
   "id": "a0e558b807038809"
  },
  {
   "cell_type": "code",
   "execution_count": null,
   "outputs": [],
   "source": [
    "from vcell_client import Publication\n",
    "from vcell_client.api.publication_resource_api import PublicationResourceApi\n",
    "from datetime import date\n",
    "import pandas as pd  # for pretty printing only\n",
    "\n",
    "# access resource-specific api (all such api objects can use the same api_client)\n",
    "publication_api = PublicationResourceApi(api_client)\n",
    "\n",
    "# get all publications (expecting [] unless other publications have been added outside this notebook)\n",
    "initial_pubs: list[Publication] = publication_api.get_publications()\n",
    "display(f\"initial publications: {initial_pubs}\")\n",
    "\n",
    "# create two publications and add them to the database (needs admin role)\n",
    "pub1 = Publication(title=\"publication 1\", authors=[\"author 1\", \"author 2\"], year=1995, citation=\"citation 1\",\n",
    "    pubmedid=\"pubmedid 1\", doi=\"doi 1\", endnoteid=1, url=\"url 1\", wittid=1, biomodel_refs=[], mathmodel_refs=[], var_date=date.today())\n",
    "pub2 = pub1.model_copy()\n",
    "pub2.title=\"publication 2\"\n",
    "pub1_key: int = publication_api.create_publication(publication=pub1)\n",
    "pub2_key: int = publication_api.create_publication(publication=pub2)\n",
    "\n",
    "# get all publications again and pretty print them with pandas (doesn't need auth)\n",
    "some_pubs: list[Publication] = publication_api.get_publications()\n",
    "display(pd.DataFrame([pub.to_dict() for pub in some_pubs]))\n",
    "\n",
    "# get one publication by id (doesn't need auth)\n",
    "pub1_from_db = publication_api.get_publication_by_id(id=pub1_key)\n",
    "display(pd.DataFrame([pub1_from_db.to_dict()]))\n",
    "\n",
    "# delete the publications (needs admin role)\n",
    "# for pub in some_pubs:\n",
    "#     publication_api.delete_publication(id=pub.pub_key)\n",
    "\n",
    "# confirm that all publications have been deleted\n",
    "final_pubs: list[Publication] = publication_api.get_publications()\n",
    "display(f\"final publications: {final_pubs}\")"
   ],
   "metadata": {
    "collapsed": false
   },
   "id": "initial_id"
  }
 ],
 "metadata": {
  "kernelspec": {
   "display_name": "Python 3",
   "language": "python",
   "name": "python3"
  },
  "language_info": {
   "codemirror_mode": {
    "name": "ipython",
    "version": 2
   },
   "file_extension": ".py",
   "mimetype": "text/x-python",
   "name": "python",
   "nbconvert_exporter": "python",
   "pygments_lexer": "ipython2",
   "version": "2.7.6"
  }
 },
 "nbformat": 4,
 "nbformat_minor": 5
}
