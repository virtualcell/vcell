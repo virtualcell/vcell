{
 "cells": [
  {
   "cell_type": "markdown",
   "source": [
    "# Writing a VCell simulation dataset to Zarr"
   ],
   "metadata": {
    "collapsed": false
   },
   "id": "29a6cffd5df3cb63"
  },
  {
   "cell_type": "code",
   "outputs": [],
   "source": [
    "import tarfile\n",
    "import os\n",
    "from pathlib import Path\n",
    "import zarr\n",
    "from vcelldata.zarr_writer import write_zarr\n",
    "from vcelldata.simdata_models import PdeDataSet, DataFunctions\n",
    "import matplotlib.pyplot as plt"
   ],
   "metadata": {
    "collapsed": false,
    "ExecuteTime": {
     "end_time": "2024-02-23T14:56:12.289300Z",
     "start_time": "2024-02-23T14:56:12.254162Z"
    }
   },
   "id": "c94978b833082ef7",
   "execution_count": 64
  },
  {
   "cell_type": "markdown",
   "source": [
    "## extract the vcell simulation dataset from the tarball (compressed to save space)"
   ],
   "metadata": {
    "collapsed": false
   },
   "id": "4b69965b59dd9af5"
  },
  {
   "cell_type": "code",
   "outputs": [
    {
     "data": {
      "text/plain": "'./example_vcell_ui.png'"
     },
     "metadata": {},
     "output_type": "display_data"
    }
   ],
   "source": [
    "test_data_dir = Path(os.getcwd()) / \"test_data\"\n",
    "\n",
    "def extract_simdata() -> None:\n",
    "    if (test_data_dir / \"SimID_946368938_0_.log\").exists():\n",
    "        return\n",
    "    with tarfile.open(test_data_dir / \"SimID_946368938_simdata.tgz\", 'r:gz') as tar:\n",
    "        tar.extractall(path=test_data_dir)\n",
    "        \n",
    "extract_simdata()\n",
    "\n",
    "display(\"./example_vcell_ui.png\")"
   ],
   "metadata": {
    "collapsed": false,
    "ExecuteTime": {
     "end_time": "2024-02-23T14:56:12.353214Z",
     "start_time": "2024-02-23T14:56:12.298293Z"
    }
   },
   "id": "e88a4bb558aba920",
   "execution_count": 65
  },
  {
   "cell_type": "markdown",
   "source": [
    "## read vcell simulation results metadata\n",
    "* `PdeDataSet` contains the metadata for the tabular simulation results (e.g. state variables, shape, time points)\n",
    "* `DataFunctions` contains the function definitions (name, expression, type, domain)\n",
    "![vcell simulation results](./example_vcell_ui.png)"
   ],
   "metadata": {
    "collapsed": false
   },
   "id": "61b06bfdb3479c67"
  },
  {
   "cell_type": "code",
   "outputs": [],
   "source": [
    "sim_id = 946368938\n",
    "job_id = 0\n",
    "pde_dataset = PdeDataSet(base_dir=test_data_dir, log_filename=f\"SimID_{sim_id}_{job_id}_.log\")\n",
    "pde_dataset.read()\n",
    "data_functions = DataFunctions(function_file=test_data_dir / f\"SimID_{sim_id}_{job_id}_.functions\")\n",
    "data_functions.read()"
   ],
   "metadata": {
    "collapsed": false,
    "ExecuteTime": {
     "end_time": "2024-02-23T14:56:12.401206Z",
     "start_time": "2024-02-23T14:56:12.359184Z"
    }
   },
   "id": "510f598e05e81f7f",
   "execution_count": 66
  },
  {
   "cell_type": "markdown",
   "source": [
    "## write the vcell simulation dataset to zarr including:\n",
    "* metadata\n",
    "* numerical datasets from stored data and evaluated functions\n",
    "* ... masks for domains coming soon (e.g. cell, extracellular, etc.)"
   ],
   "metadata": {
    "collapsed": false
   },
   "id": "cb456b125c78df83"
  },
  {
   "cell_type": "code",
   "outputs": [],
   "source": [
    "write_zarr(pde_dataset=pde_dataset, data_functions=data_functions, zarr_dir=test_data_dir / \"zarr\")"
   ],
   "metadata": {
    "collapsed": false,
    "ExecuteTime": {
     "end_time": "2024-02-23T14:56:12.598559Z",
     "start_time": "2024-02-23T14:56:12.406498Z"
    }
   },
   "id": "39e09444af3e25f1",
   "execution_count": 67
  },
  {
   "cell_type": "markdown",
   "source": [
    "## Open and display slices from the zarr dataset as an image\n",
    "* no masking for domains\n",
    "* different colormap and scaling"
   ],
   "metadata": {
    "collapsed": false
   },
   "id": "84d2b666c214cb87"
  },
  {
   "cell_type": "code",
   "outputs": [
    {
     "data": {
      "text/plain": "<Figure size 640x480 with 1 Axes>",
      "image/png": "[encoded data removed]"
     },
     "metadata": {},
     "output_type": "display_data"
    }
   ],
   "source": [
    "# Open the Zarr dataset\n",
    "dataset = zarr.open(test_data_dir / \"zarr\", mode='r')\n",
    "\n",
    "# Get a slice of the dataset, shape is (time, channel, z, y, x)\n",
    "slice = dataset[3, 2, 9, :, :]\n",
    "\n",
    "# Display the slice as an image\n",
    "plt.imshow(slice)\n",
    "plt.show()"
   ],
   "metadata": {
    "collapsed": false,
    "ExecuteTime": {
     "end_time": "2024-02-23T14:56:12.898022Z",
     "start_time": "2024-02-23T14:56:12.604252Z"
    }
   },
   "id": "5bb30178f82d50e5",
   "execution_count": 68
  },
  {
   "cell_type": "code",
   "outputs": [],
   "source": [],
   "metadata": {
    "collapsed": false,
    "ExecuteTime": {
     "end_time": "2024-02-23T14:56:12.899114Z",
     "start_time": "2024-02-23T14:56:12.886210Z"
    }
   },
   "id": "9340dfb0efa80754",
   "execution_count": 68
  }
 ],
 "metadata": {
  "kernelspec": {
   "display_name": "Python 3",
   "language": "python",
   "name": "python3"
  },
  "language_info": {
   "codemirror_mode": {
    "name": "ipython",
    "version": 2
   },
   "file_extension": ".py",
   "mimetype": "text/x-python",
   "name": "python",
   "nbconvert_exporter": "python",
   "pygments_lexer": "ipython2",
   "version": "2.7.6"
  }
 },
 "nbformat": 4,
 "nbformat_minor": 5
}
